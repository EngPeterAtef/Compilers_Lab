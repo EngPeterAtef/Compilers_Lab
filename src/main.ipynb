{
 "cells": [
  {
   "cell_type": "markdown",
   "metadata": {},
   "source": [
    "### imports"
   ]
  },
  {
   "cell_type": "code",
   "execution_count": 67,
   "metadata": {},
   "outputs": [
    {
     "name": "stdout",
     "output_type": "stream",
     "text": [
      "The autoreload extension is already loaded. To reload it, use:\n",
      "  %reload_ext autoreload\n"
     ]
    }
   ],
   "source": [
    "%load_ext autoreload"
   ]
  },
  {
   "cell_type": "code",
   "execution_count": 68,
   "metadata": {},
   "outputs": [],
   "source": [
    "%autoreload 2"
   ]
  },
  {
   "cell_type": "code",
   "execution_count": 69,
   "metadata": {},
   "outputs": [],
   "source": [
    "from regex_to_NFA import NFA_CLASS,NFA\n",
    "from NFA_to_DFA import DFA_CLASS,DfaState,DfaEdge\n",
    "import json\n",
    "from parser_classes import EPSILON"
   ]
  },
  {
   "cell_type": "markdown",
   "metadata": {},
   "source": [
    "### Functions"
   ]
  },
  {
   "cell_type": "code",
   "execution_count": 70,
   "metadata": {},
   "outputs": [],
   "source": [
    "def json_to_nfa(json_path: str) -> NFA:\n",
    "    \"\"\"\n",
    "    This function is used to convert the JSON data to NFA\n",
    "    params:\n",
    "        json_path: str: Path to the JSON file\n",
    "    return:\n",
    "        NFA: NFA object\n",
    "    \"\"\"\n",
    "    # read the JSON file\n",
    "    with open(json_path, \"r\") as file:\n",
    "        json_data = json.load(file)\n",
    "    # create the NFA object\n",
    "    nfa = NFA(None, None, [], [])\n",
    "    # create the states\n",
    "    states = []\n",
    "    acceping_index = 0\n",
    "    for state in json_data:\n",
    "        if state == \"startingState\":\n",
    "            continue\n",
    "        if json_data[state][\"isTerminatingState\"] == True:\n",
    "            acceping_index = int(state[1:])\n",
    "        states.append(DfaState(name=state))\n",
    "    nfa.states = states\n",
    "    # set the start state becuase the name of the starting states is the index of it inside the states array\n",
    "    nfa.start = states[int(json_data[\"startingState\"][1:])]\n",
    "    # set the accept state\n",
    "    nfa.accept = states[acceping_index]\n",
    "    # create the transitions\n",
    "    transitions = []\n",
    "    for state in json_data:\n",
    "        if state == \"startingState\":\n",
    "            continue\n",
    "        for transition in json_data[state]:\n",
    "            if transition == \"isTerminatingState\":\n",
    "                continue\n",
    "\n",
    "            # check if the transition is epsilon or not\n",
    "            if transition.startswith(\"epsilon\"):\n",
    "                transitions.append(\n",
    "                    DfaEdge(\n",
    "                        states[int(state[1:])],\n",
    "                        states[int(json_data[state][transition][1:])],\n",
    "                        {EPSILON},\n",
    "                    )\n",
    "                )\n",
    "            else:\n",
    "                transitions.append(\n",
    "                    DfaEdge(\n",
    "                        states[int(state[1:])],\n",
    "                        states[int(json_data[state][transition][1:])],\n",
    "                        {transition},\n",
    "                    )\n",
    "                )\n",
    "    nfa.transitions = transitions\n",
    "    return nfa"
   ]
  },
  {
   "cell_type": "code",
   "execution_count": 71,
   "metadata": {},
   "outputs": [],
   "source": [
    "# getting the inputs from the tansitions in the nfa\n",
    "def get_inputs(transitions):\n",
    "    \"\"\"_summary_\n",
    "    This function is used to get the inputs from the transitions in the NFA\n",
    "    Args:\n",
    "        transitions (List): List of transitions in the NFA (List of Edges)\n",
    "    Returns:\n",
    "        List: List of unique inputs in the NFA\n",
    "    \"\"\"\n",
    "    inputs = []\n",
    "    for transition in transitions:\n",
    "        temp_in = list(transition.characters)[0]\n",
    "        if temp_in not in inputs and temp_in != EPSILON:\n",
    "            inputs.append(temp_in)\n",
    "    return inputs"
   ]
  },
  {
   "cell_type": "markdown",
   "metadata": {},
   "source": [
    "### Testing"
   ]
  },
  {
   "cell_type": "code",
   "execution_count": 72,
   "metadata": {},
   "outputs": [
    {
     "name": "stdout",
     "output_type": "stream",
     "text": [
      "Visualization of the NFA is saved in nfa\n",
      "Visualization of the DFA is saved in ./dfa\n",
      "Final Partition:  [{DfaState(name='S2')}, {DfaState(name='S1'), DfaState(name='S0')}]\n",
      "Start State:  S1\n",
      "Accepting States:  ['S0']\n",
      "Non Accepting States:  ['S1']\n",
      "States:  ['S0', 'S1']\n",
      "Transitions: \n",
      "From: S1, To: S1, Characters: {'a-z'}\n",
      "From: S1, To: S0, Characters: {'0-9'}\n",
      "From: S1, To: S1, Characters: {'a-z'}\n",
      "From: S1, To: S0, Characters: {'0-9'}\n",
      "From: S0, To: S0, Characters: {'0-9'}\n",
      "Visualization of the DFA is saved in minimized_dfa\n"
     ]
    }
   ],
   "source": [
    "# input_regex = input(\"Enter the regular expression: \")\n",
    "input_regex = \"[a-z]*[0-9]+\"\n",
    "nfa = NFA_CLASS(input_regex)\n",
    "deserialized_nfa = json_to_nfa(\"./nfa.json\")\n",
    "inputs = get_inputs(deserialized_nfa.transitions)\n",
    "dfa = DFA_CLASS()\n",
    "dfa.subset_construction(deserialized_nfa, inputs)\n",
    "dfa.rename_dfa_states()\n",
    "dfa.dfa_to_json(\"dfa.json\")\n",
    "dfa.visualize_dfa()\n",
    "# dfa.print_dfa()\n",
    "minimized_dfa = dfa.minimize_dfa(inputs)\n",
    "minimized_dfa_obj = DFA_CLASS(minimized_dfa,inputs)\n",
    "minimized_dfa_obj.print_dfa()\n",
    "minimized_dfa_obj.dfa_to_json(\"minimized_dfa.json\")\n",
    "minimized_dfa_obj.visualize_dfa(path=\"minimized_dfa\")"
   ]
  },
  {
   "cell_type": "code",
   "execution_count": null,
   "metadata": {},
   "outputs": [],
   "source": []
  }
 ],
 "metadata": {
  "kernelspec": {
   "display_name": "compiler_env",
   "language": "python",
   "name": "python3"
  },
  "language_info": {
   "codemirror_mode": {
    "name": "ipython",
    "version": 3
   },
   "file_extension": ".py",
   "mimetype": "text/x-python",
   "name": "python",
   "nbconvert_exporter": "python",
   "pygments_lexer": "ipython3",
   "version": "3.11.8"
  }
 },
 "nbformat": 4,
 "nbformat_minor": 2
}
