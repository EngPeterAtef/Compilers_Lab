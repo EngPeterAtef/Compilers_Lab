{
 "cells": [
  {
   "cell_type": "markdown",
   "metadata": {},
   "source": [
    "### imports"
   ]
  },
  {
   "cell_type": "code",
   "execution_count": 1,
   "metadata": {},
   "outputs": [],
   "source": [
    "%load_ext autoreload"
   ]
  },
  {
   "cell_type": "code",
   "execution_count": 2,
   "metadata": {},
   "outputs": [],
   "source": [
    "%autoreload 2"
   ]
  },
  {
   "cell_type": "code",
   "execution_count": 3,
   "metadata": {},
   "outputs": [],
   "source": [
    "from regex_to_NFA import NFA_CLASS,NFA\n",
    "from NFA_to_DFA import DFA_CLASS,State,Edge\n",
    "import json\n",
    "from parser_classes import EPSILON"
   ]
  },
  {
   "cell_type": "markdown",
   "metadata": {},
   "source": [
    "### Functions"
   ]
  },
  {
   "cell_type": "code",
   "execution_count": 4,
   "metadata": {},
   "outputs": [],
   "source": [
    "def json_to_nfa(json_path: str) -> NFA:\n",
    "    \"\"\"\n",
    "    This function is used to convert the JSON data to NFA\n",
    "    params:\n",
    "        json_path: str: Path to the JSON file\n",
    "    return:\n",
    "        NFA: NFA object\n",
    "    \"\"\"\n",
    "    # read the JSON file\n",
    "    with open(json_path, \"r\") as file:\n",
    "        json_data = json.load(file)\n",
    "    # create the NFA object\n",
    "    nfa = NFA(None, None, [], [])\n",
    "    # create the states\n",
    "    states = []\n",
    "    acceping_index = 0\n",
    "    for state in json_data:\n",
    "        if state == \"startingState\":\n",
    "            continue\n",
    "        if json_data[state][\"isTerminatingState\"] == True:\n",
    "            acceping_index = int(state[1:])\n",
    "        states.append(State(name=state))\n",
    "    nfa.states = states\n",
    "    # set the start state becuase the name of the starting states is the index of it inside the states array\n",
    "    nfa.start = states[int(json_data[\"startingState\"][1:])]\n",
    "    # set the accept state\n",
    "    nfa.accept = states[acceping_index]\n",
    "    # create the transitions\n",
    "    transitions = []\n",
    "    for state in json_data:\n",
    "        if state == \"startingState\":\n",
    "            continue\n",
    "        for transition in json_data[state]:\n",
    "            if transition == \"isTerminatingState\":\n",
    "                continue\n",
    "\n",
    "            # check if the transition is epsilon or not\n",
    "            if transition.startswith(\"epsilon\"):\n",
    "                transitions.append(\n",
    "                    Edge(\n",
    "                        states[int(state[1:])],\n",
    "                        states[int(json_data[state][transition][1:])],\n",
    "                        {EPSILON},\n",
    "                    )\n",
    "                )\n",
    "            else:\n",
    "                transitions.append(\n",
    "                    Edge(\n",
    "                        states[int(state[1:])],\n",
    "                        states[int(json_data[state][transition][1:])],\n",
    "                        {transition},\n",
    "                    )\n",
    "                )\n",
    "    nfa.transitions = transitions\n",
    "    return nfa"
   ]
  },
  {
   "cell_type": "code",
   "execution_count": 5,
   "metadata": {},
   "outputs": [],
   "source": [
    "# getting the inputs from the tansitions in the nfa\n",
    "def get_inputs(transitions):\n",
    "    \"\"\"_summary_\n",
    "    This function is used to get the inputs from the transitions in the NFA\n",
    "    Args:\n",
    "        transitions (List): List of transitions in the NFA (List of Edges)\n",
    "    Returns:\n",
    "        List: List of unique inputs in the NFA\n",
    "    \"\"\"\n",
    "    inputs = []\n",
    "    for transition in transitions:\n",
    "        temp_in = list(transition.characters)[0]\n",
    "        if temp_in not in inputs and temp_in != EPSILON:\n",
    "            inputs.append(temp_in)\n",
    "    return inputs"
   ]
  },
  {
   "cell_type": "markdown",
   "metadata": {},
   "source": [
    "### Regex to NFA"
   ]
  },
  {
   "cell_type": "code",
   "execution_count": 6,
   "metadata": {},
   "outputs": [],
   "source": [
    "# regex = \"[A-Za-z]+[0-9]*\"\n",
    "# regex = \"ab*c+de?(f|g|h)|mr|n|[p-qs0-9]\"\n",
    "# regex = \"ab\"\n",
    "regex = \"(A|B)+\""
   ]
  },
  {
   "cell_type": "code",
   "execution_count": 7,
   "metadata": {},
   "outputs": [
    {
     "name": "stdout",
     "output_type": "stream",
     "text": [
      "Visualization of the NFA is saved in nfa\n"
     ]
    }
   ],
   "source": [
    "nfa = NFA_CLASS(regex)"
   ]
  },
  {
   "cell_type": "markdown",
   "metadata": {},
   "source": [
    "### NFA to DFA"
   ]
  },
  {
   "cell_type": "code",
   "execution_count": 8,
   "metadata": {},
   "outputs": [],
   "source": [
    "# deserialize the json file to get the nfa\n",
    "deserialized_nfa = json_to_nfa(\"./nfa.json\")"
   ]
  },
  {
   "cell_type": "code",
   "execution_count": 9,
   "metadata": {},
   "outputs": [],
   "source": [
    "inputs = get_inputs(deserialized_nfa.transitions)"
   ]
  },
  {
   "cell_type": "code",
   "execution_count": 10,
   "metadata": {},
   "outputs": [],
   "source": [
    "dfa = DFA_CLASS()"
   ]
  },
  {
   "cell_type": "code",
   "execution_count": 11,
   "metadata": {},
   "outputs": [],
   "source": [
    "dfa.subset_construction(deserialized_nfa, inputs)"
   ]
  },
  {
   "cell_type": "code",
   "execution_count": 12,
   "metadata": {},
   "outputs": [
    {
     "name": "stdout",
     "output_type": "stream",
     "text": [
      "Start State:  S2,S0,S4,S6\n",
      "Accepting States:  ['S2,S5,S0,S1,S4,S6,S7', 'S2,S5,S0,S3,S4,S6,S7']\n",
      "Non Accepting States:  ['S2,S0,S4,S6']\n",
      "States:  ['S2,S0,S4,S6', 'S2,S5,S0,S1,S4,S6,S7', 'S2,S5,S0,S3,S4,S6,S7']\n",
      "Transitions: \n",
      "From: S2,S0,S4,S6, To: S2,S5,S0,S1,S4,S6,S7, Characters: {'A'}\n",
      "From: S2,S0,S4,S6, To: S2,S5,S0,S3,S4,S6,S7, Characters: {'B'}\n",
      "From: S2,S5,S0,S1,S4,S6,S7, To: S2,S5,S0,S1,S4,S6,S7, Characters: {'A'}\n",
      "From: S2,S5,S0,S1,S4,S6,S7, To: S2,S5,S0,S3,S4,S6,S7, Characters: {'B'}\n",
      "From: S2,S5,S0,S3,S4,S6,S7, To: S2,S5,S0,S1,S4,S6,S7, Characters: {'A'}\n",
      "From: S2,S5,S0,S3,S4,S6,S7, To: S2,S5,S0,S3,S4,S6,S7, Characters: {'B'}\n"
     ]
    }
   ],
   "source": [
    "dfa.print_dfa()"
   ]
  },
  {
   "cell_type": "code",
   "execution_count": 13,
   "metadata": {},
   "outputs": [
    {
     "name": "stdout",
     "output_type": "stream",
     "text": [
      "Start State:  S0\n",
      "Accepting States:  ['S1', 'S2']\n",
      "Non Accepting States:  ['S0']\n",
      "States:  ['S0', 'S1', 'S2']\n",
      "Transitions: \n",
      "From: S0, To: S1, Characters: {'A'}\n",
      "From: S0, To: S2, Characters: {'B'}\n",
      "From: S1, To: S1, Characters: {'A'}\n",
      "From: S1, To: S2, Characters: {'B'}\n",
      "From: S2, To: S1, Characters: {'A'}\n",
      "From: S2, To: S2, Characters: {'B'}\n"
     ]
    }
   ],
   "source": [
    "dfa.rename_dfa_states()\n",
    "dfa.print_dfa()"
   ]
  },
  {
   "cell_type": "code",
   "execution_count": 14,
   "metadata": {},
   "outputs": [],
   "source": [
    "dfa.dfa_to_json(\"dfa.json\")"
   ]
  },
  {
   "cell_type": "code",
   "execution_count": 15,
   "metadata": {},
   "outputs": [
    {
     "name": "stdout",
     "output_type": "stream",
     "text": [
      "Visualization of the DFA is saved in ./dfa\n"
     ]
    }
   ],
   "source": [
    "dfa.visualize_dfa()"
   ]
  },
  {
   "cell_type": "markdown",
   "metadata": {},
   "source": [
    "### Minimizing DFA"
   ]
  },
  {
   "cell_type": "code",
   "execution_count": 16,
   "metadata": {},
   "outputs": [],
   "source": [
    "minimized_dfa = dfa.minimize_dfa(inputs)"
   ]
  },
  {
   "cell_type": "code",
   "execution_count": 17,
   "metadata": {},
   "outputs": [],
   "source": [
    "# create a new object of DFA_CLASS to use the minimized dfa\n",
    "minimized_dfa_obj = DFA_CLASS(minimized_dfa,inputs)"
   ]
  },
  {
   "cell_type": "code",
   "execution_count": 18,
   "metadata": {},
   "outputs": [
    {
     "name": "stdout",
     "output_type": "stream",
     "text": [
      "Start State:  S1\n",
      "Accepting States:  ['S0']\n",
      "Non Accepting States:  ['S1']\n",
      "States:  ['S0', 'S1']\n",
      "Transitions: \n",
      "From: S1, To: S0, Characters: {'A'}\n",
      "From: S1, To: S0, Characters: {'B'}\n",
      "From: S0, To: S0, Characters: {'A'}\n",
      "From: S0, To: S0, Characters: {'B'}\n",
      "From: S0, To: S0, Characters: {'A'}\n",
      "From: S0, To: S0, Characters: {'B'}\n"
     ]
    }
   ],
   "source": [
    "# print the minimized dfa\n",
    "minimized_dfa_obj.print_dfa()"
   ]
  },
  {
   "cell_type": "code",
   "execution_count": 19,
   "metadata": {},
   "outputs": [],
   "source": [
    "minimized_dfa_obj.dfa_to_json(\"minimized_dfa.json\")"
   ]
  },
  {
   "cell_type": "code",
   "execution_count": 20,
   "metadata": {},
   "outputs": [
    {
     "name": "stdout",
     "output_type": "stream",
     "text": [
      "Visualization of the DFA is saved in minimized_dfa\n"
     ]
    }
   ],
   "source": [
    "minimized_dfa_obj.visualize_dfa(path=\"minimized_dfa\")"
   ]
  },
  {
   "cell_type": "markdown",
   "metadata": {},
   "source": [
    "### Testing"
   ]
  },
  {
   "cell_type": "code",
   "execution_count": 21,
   "metadata": {},
   "outputs": [
    {
     "name": "stdout",
     "output_type": "stream",
     "text": [
      "Visualization of the NFA is saved in nfa\n",
      "Visualization of the DFA is saved in ./dfa\n",
      "Start State:  S3\n",
      "Accepting States:  ['S0']\n",
      "Non Accepting States:  ['S1', 'S2', 'S3']\n",
      "States:  ['S0', 'S1', 'S2', 'S3']\n",
      "Transitions: \n",
      "From: S3, To: S3, Characters: {'a'}\n",
      "From: S3, To: S1, Characters: {'b'}\n",
      "From: S3, To: S3, Characters: {'a'}\n",
      "From: S3, To: S1, Characters: {'b'}\n",
      "From: S1, To: S1, Characters: {'a'}\n",
      "From: S1, To: S2, Characters: {'b'}\n",
      "From: S1, To: S1, Characters: {'a'}\n",
      "From: S1, To: S2, Characters: {'b'}\n",
      "From: S2, To: S2, Characters: {'a'}\n",
      "From: S2, To: S0, Characters: {'b'}\n",
      "From: S2, To: S2, Characters: {'a'}\n",
      "From: S2, To: S0, Characters: {'b'}\n",
      "From: S0, To: S0, Characters: {'a'}\n",
      "From: S0, To: S0, Characters: {'a'}\n",
      "Visualization of the DFA is saved in minimized_dfa\n"
     ]
    }
   ],
   "source": [
    "# input_regex = input(\"Enter the regular expression: \")\n",
    "input_regex = \"a*ba*ba*ba*\"\n",
    "nfa = NFA_CLASS(input_regex)\n",
    "deserialized_nfa = json_to_nfa(\"./nfa.json\")\n",
    "inputs = get_inputs(deserialized_nfa.transitions)\n",
    "dfa = DFA_CLASS()\n",
    "dfa.subset_construction(deserialized_nfa, inputs)\n",
    "dfa.rename_dfa_states()\n",
    "dfa.dfa_to_json(\"dfa.json\")\n",
    "dfa.visualize_dfa()\n",
    "# dfa.print_dfa()\n",
    "minimized_dfa = dfa.minimize_dfa(inputs)\n",
    "minimized_dfa_obj = DFA_CLASS(minimized_dfa,inputs)\n",
    "minimized_dfa_obj.print_dfa()\n",
    "minimized_dfa_obj.dfa_to_json(\"minimized_dfa.json\")\n",
    "minimized_dfa_obj.visualize_dfa(path=\"minimized_dfa\")"
   ]
  },
  {
   "cell_type": "code",
   "execution_count": null,
   "metadata": {},
   "outputs": [],
   "source": []
  }
 ],
 "metadata": {
  "kernelspec": {
   "display_name": "compiler_env",
   "language": "python",
   "name": "python3"
  },
  "language_info": {
   "codemirror_mode": {
    "name": "ipython",
    "version": 3
   },
   "file_extension": ".py",
   "mimetype": "text/x-python",
   "name": "python",
   "nbconvert_exporter": "python",
   "pygments_lexer": "ipython3",
   "version": "3.11.8"
  }
 },
 "nbformat": 4,
 "nbformat_minor": 2
}
