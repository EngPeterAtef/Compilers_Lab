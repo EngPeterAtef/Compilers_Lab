{
 "cells": [
  {
   "cell_type": "markdown",
   "metadata": {},
   "source": [
    "### imports"
   ]
  },
  {
   "cell_type": "code",
   "execution_count": 186,
   "metadata": {},
   "outputs": [
    {
     "name": "stdout",
     "output_type": "stream",
     "text": [
      "The autoreload extension is already loaded. To reload it, use:\n",
      "  %reload_ext autoreload\n"
     ]
    }
   ],
   "source": [
    "%load_ext autoreload"
   ]
  },
  {
   "cell_type": "code",
   "execution_count": 187,
   "metadata": {},
   "outputs": [],
   "source": [
    "%autoreload 2"
   ]
  },
  {
   "cell_type": "code",
   "execution_count": 188,
   "metadata": {},
   "outputs": [],
   "source": [
    "from regex_to_NFA import NFA_CLASS,NFA\n",
    "from NFA_to_DFA import DFA_CLASS,State,Edge\n",
    "import json\n",
    "from parser_classes import EPSILON"
   ]
  },
  {
   "cell_type": "markdown",
   "metadata": {},
   "source": [
    "### Functions"
   ]
  },
  {
   "cell_type": "code",
   "execution_count": 154,
   "metadata": {},
   "outputs": [],
   "source": [
    "def json_to_nfa(json_path: str) -> NFA:\n",
    "    \"\"\"\n",
    "    This function is used to convert the JSON data to NFA\n",
    "    params:\n",
    "        json_path: str: Path to the JSON file\n",
    "    return:\n",
    "        NFA: NFA object\n",
    "    \"\"\"\n",
    "    # read the JSON file\n",
    "    with open(json_path, \"r\") as file:\n",
    "        json_data = json.load(file)\n",
    "    # create the NFA object\n",
    "    nfa = NFA(None, None, [], [])\n",
    "    # create the states\n",
    "    states = []\n",
    "    acceping_index = 0\n",
    "    for state in json_data:\n",
    "        if state == \"startingState\":\n",
    "            continue\n",
    "        if json_data[state][\"isTerminatingState\"] == True:\n",
    "            acceping_index = int(state[1:])\n",
    "        states.append(State(name=state))\n",
    "    nfa.states = states\n",
    "    # set the start state becuase the name of the starting states is the index of it inside the states array\n",
    "    nfa.start = states[int(json_data[\"startingState\"][1:])]\n",
    "    # set the accept state\n",
    "    nfa.accept = states[acceping_index]\n",
    "    # create the transitions\n",
    "    transitions = []\n",
    "    for state in json_data:\n",
    "        if state == \"startingState\":\n",
    "            continue\n",
    "        for transition in json_data[state]:\n",
    "            if transition == \"isTerminatingState\":\n",
    "                continue\n",
    "\n",
    "            # check if the transition is epsilon or not\n",
    "            if transition.startswith(\"epsilon\"):\n",
    "                transitions.append(\n",
    "                    Edge(\n",
    "                        states[int(state[1:])],\n",
    "                        states[int(json_data[state][transition][1:])],\n",
    "                        {EPSILON},\n",
    "                    )\n",
    "                )\n",
    "            else:\n",
    "                transitions.append(\n",
    "                    Edge(\n",
    "                        states[int(state[1:])],\n",
    "                        states[int(json_data[state][transition][1:])],\n",
    "                        {transition},\n",
    "                    )\n",
    "                )\n",
    "    nfa.transitions = transitions\n",
    "    return nfa"
   ]
  },
  {
   "cell_type": "markdown",
   "metadata": {},
   "source": [
    "### Regex to NFA"
   ]
  },
  {
   "cell_type": "code",
   "execution_count": 155,
   "metadata": {},
   "outputs": [],
   "source": [
    "# regex = \"[A-Za-z]+[0-9]*\"\n",
    "# regex = \"ab*c+de?(f|g|h)|mr|n|[p-qs0-9]\"\n",
    "# regex = \"ab\"\n",
    "regex = \"(A|B)+\""
   ]
  },
  {
   "cell_type": "code",
   "execution_count": 156,
   "metadata": {},
   "outputs": [
    {
     "name": "stdout",
     "output_type": "stream",
     "text": [
      "Visualization of the NFA is saved in ./nfa.gv\n"
     ]
    }
   ],
   "source": [
    "nfa = NFA_CLASS(regex)"
   ]
  },
  {
   "cell_type": "markdown",
   "metadata": {},
   "source": [
    "### NFA to DFA"
   ]
  },
  {
   "cell_type": "code",
   "execution_count": 165,
   "metadata": {},
   "outputs": [],
   "source": [
    "# deserialize the json file to get the nfa\n",
    "deserialized_nfa = json_to_nfa(\"./nfa.json\")"
   ]
  },
  {
   "cell_type": "code",
   "execution_count": 190,
   "metadata": {},
   "outputs": [
    {
     "data": {
      "text/plain": [
       "['A', 'B']"
      ]
     },
     "execution_count": 190,
     "metadata": {},
     "output_type": "execute_result"
    }
   ],
   "source": [
    "# getting the inputs from the tansitions in the nfa\n",
    "inputs = []\n",
    "for transition in deserialized_nfa.transitions:\n",
    "    temp_in = list(transition.characters)[0]\n",
    "    if temp_in not in inputs and temp_in != EPSILON:\n",
    "        inputs.append(temp_in)\n",
    "inputs"
   ]
  },
  {
   "cell_type": "code",
   "execution_count": 167,
   "metadata": {},
   "outputs": [],
   "source": [
    "dfa = DFA_CLASS()"
   ]
  },
  {
   "cell_type": "code",
   "execution_count": 191,
   "metadata": {},
   "outputs": [
    {
     "name": "stdout",
     "output_type": "stream",
     "text": [
      "Current State:  {State(name='S2'), State(name='S6'), State(name='S4'), State(name='S0')}\n",
      "Input: A, Move: {State(name='S2'), State(name='S4'), State(name='S0'), State(name='S1'), State(name='S7'), State(name='S5'), State(name='S6')}\n",
      "Input: B, Move: {State(name='S3'), State(name='S2'), State(name='S4'), State(name='S0'), State(name='S7'), State(name='S5'), State(name='S6')}\n",
      "Current State:  {State(name='S2'), State(name='S4'), State(name='S0'), State(name='S1'), State(name='S7'), State(name='S5'), State(name='S6')}\n",
      "Input: A, Move: {State(name='S2'), State(name='S4'), State(name='S0'), State(name='S1'), State(name='S7'), State(name='S5'), State(name='S6')}\n",
      "Input: B, Move: {State(name='S3'), State(name='S2'), State(name='S4'), State(name='S0'), State(name='S7'), State(name='S5'), State(name='S6')}\n",
      "Current State:  {State(name='S3'), State(name='S2'), State(name='S4'), State(name='S0'), State(name='S7'), State(name='S5'), State(name='S6')}\n",
      "Input: A, Move: {State(name='S2'), State(name='S4'), State(name='S0'), State(name='S1'), State(name='S7'), State(name='S5'), State(name='S6')}\n",
      "Input: B, Move: {State(name='S3'), State(name='S2'), State(name='S4'), State(name='S0'), State(name='S7'), State(name='S5'), State(name='S6')}\n"
     ]
    }
   ],
   "source": [
    "dfa.subset_construction(deserialized_nfa, inputs)"
   ]
  },
  {
   "cell_type": "code",
   "execution_count": 192,
   "metadata": {},
   "outputs": [
    {
     "name": "stdout",
     "output_type": "stream",
     "text": [
      "Start State:  S2,S6,S4,S0\n",
      "Accepting States:  ['S2,S4,S0,S1,S7,S5,S6', 'S3,S2,S4,S0,S7,S5,S6']\n",
      "States:  ['S2,S6,S4,S0', 'S2,S4,S0,S1,S7,S5,S6', 'S3,S2,S4,S0,S7,S5,S6']\n"
     ]
    }
   ],
   "source": [
    "dfa.print_dfa()"
   ]
  },
  {
   "cell_type": "code",
   "execution_count": null,
   "metadata": {},
   "outputs": [],
   "source": []
  }
 ],
 "metadata": {
  "kernelspec": {
   "display_name": "compiler_env",
   "language": "python",
   "name": "python3"
  },
  "language_info": {
   "codemirror_mode": {
    "name": "ipython",
    "version": 3
   },
   "file_extension": ".py",
   "mimetype": "text/x-python",
   "name": "python",
   "nbconvert_exporter": "python",
   "pygments_lexer": "ipython3",
   "version": "3.11.8"
  }
 },
 "nbformat": 4,
 "nbformat_minor": 2
}
